{
 "cells": [
  {
   "cell_type": "markdown",
   "metadata": {},
   "source": [
    "# Module 01: Introduction to Machine Learning\n",
    "\n",
    "## Prerequisites"
   ]
  },
  {
   "cell_type": "code",
   "execution_count": 2,
   "metadata": {
    "tags": []
   },
   "outputs": [],
   "source": [
    "%%capture\n",
    "\n",
    "# data management\n",
    "! pip install -U pandas\n",
    "! pip install -U numpy\n",
    "\n",
    "# data visualization\n",
    "! pip install -U matplotlib\n",
    "! pip install -U plotnine\n",
    "\n",
    "# modeling\n",
    "! pip install -U scikit-learn"
   ]
  },
  {
   "cell_type": "code",
   "execution_count": 1,
   "metadata": {},
   "outputs": [
    {
     "output_type": "execute_result",
     "data": {
      "text/plain": "'0.23.1'"
     },
     "metadata": {},
     "execution_count": 1
    }
   ],
   "source": [
    "import pandas as pd\n",
    "import sklearn\n",
    "\n",
    "sklearn.__version__"
   ]
  },
  {
   "cell_type": "markdown",
   "metadata": {},
   "source": [
    "## Boston housing"
   ]
  },
  {
   "cell_type": "code",
   "execution_count": 3,
   "metadata": {},
   "outputs": [
    {
     "output_type": "execute_result",
     "data": {
      "text/plain": "(506, 16)"
     },
     "metadata": {},
     "execution_count": 3
    }
   ],
   "source": [
    "# access data\n",
    "boston = pd.read_csv(\"../data/boston.csv\")\n",
    "\n",
    "# initial dimensions\n",
    "boston.shape"
   ]
  },
  {
   "cell_type": "code",
   "execution_count": 4,
   "metadata": {},
   "outputs": [
    {
     "output_type": "execute_result",
     "data": {
      "text/plain": "      lon      lat     crim    zn  indus  chas    nox     rm   age     dis  \\\n0 -70.955  42.2550  0.00632  18.0   2.31     0  0.538  6.575  65.2  4.0900   \n1 -70.950  42.2875  0.02731   0.0   7.07     0  0.469  6.421  78.9  4.9671   \n2 -70.936  42.2830  0.02729   0.0   7.07     0  0.469  7.185  61.1  4.9671   \n3 -70.928  42.2930  0.03237   0.0   2.18     0  0.458  6.998  45.8  6.0622   \n4 -70.922  42.2980  0.06905   0.0   2.18     0  0.458  7.147  54.2  6.0622   \n\n   rad  tax  ptratio       b  lstat  \n0    1  296     15.3  396.90   4.98  \n1    2  242     17.8  396.90   9.14  \n2    2  242     17.8  392.83   4.03  \n3    3  222     18.7  394.63   2.94  \n4    3  222     18.7  396.90   5.33  ",
      "text/html": "<div>\n<style scoped>\n    .dataframe tbody tr th:only-of-type {\n        vertical-align: middle;\n    }\n\n    .dataframe tbody tr th {\n        vertical-align: top;\n    }\n\n    .dataframe thead th {\n        text-align: right;\n    }\n</style>\n<table border=\"1\" class=\"dataframe\">\n  <thead>\n    <tr style=\"text-align: right;\">\n      <th></th>\n      <th>lon</th>\n      <th>lat</th>\n      <th>crim</th>\n      <th>zn</th>\n      <th>indus</th>\n      <th>chas</th>\n      <th>nox</th>\n      <th>rm</th>\n      <th>age</th>\n      <th>dis</th>\n      <th>rad</th>\n      <th>tax</th>\n      <th>ptratio</th>\n      <th>b</th>\n      <th>lstat</th>\n    </tr>\n  </thead>\n  <tbody>\n    <tr>\n      <th>0</th>\n      <td>-70.955</td>\n      <td>42.2550</td>\n      <td>0.00632</td>\n      <td>18.0</td>\n      <td>2.31</td>\n      <td>0</td>\n      <td>0.538</td>\n      <td>6.575</td>\n      <td>65.2</td>\n      <td>4.0900</td>\n      <td>1</td>\n      <td>296</td>\n      <td>15.3</td>\n      <td>396.90</td>\n      <td>4.98</td>\n    </tr>\n    <tr>\n      <th>1</th>\n      <td>-70.950</td>\n      <td>42.2875</td>\n      <td>0.02731</td>\n      <td>0.0</td>\n      <td>7.07</td>\n      <td>0</td>\n      <td>0.469</td>\n      <td>6.421</td>\n      <td>78.9</td>\n      <td>4.9671</td>\n      <td>2</td>\n      <td>242</td>\n      <td>17.8</td>\n      <td>396.90</td>\n      <td>9.14</td>\n    </tr>\n    <tr>\n      <th>2</th>\n      <td>-70.936</td>\n      <td>42.2830</td>\n      <td>0.02729</td>\n      <td>0.0</td>\n      <td>7.07</td>\n      <td>0</td>\n      <td>0.469</td>\n      <td>7.185</td>\n      <td>61.1</td>\n      <td>4.9671</td>\n      <td>2</td>\n      <td>242</td>\n      <td>17.8</td>\n      <td>392.83</td>\n      <td>4.03</td>\n    </tr>\n    <tr>\n      <th>3</th>\n      <td>-70.928</td>\n      <td>42.2930</td>\n      <td>0.03237</td>\n      <td>0.0</td>\n      <td>2.18</td>\n      <td>0</td>\n      <td>0.458</td>\n      <td>6.998</td>\n      <td>45.8</td>\n      <td>6.0622</td>\n      <td>3</td>\n      <td>222</td>\n      <td>18.7</td>\n      <td>394.63</td>\n      <td>2.94</td>\n    </tr>\n    <tr>\n      <th>4</th>\n      <td>-70.922</td>\n      <td>42.2980</td>\n      <td>0.06905</td>\n      <td>0.0</td>\n      <td>2.18</td>\n      <td>0</td>\n      <td>0.458</td>\n      <td>7.147</td>\n      <td>54.2</td>\n      <td>6.0622</td>\n      <td>3</td>\n      <td>222</td>\n      <td>18.7</td>\n      <td>396.90</td>\n      <td>5.33</td>\n    </tr>\n  </tbody>\n</table>\n</div>"
     },
     "metadata": {},
     "execution_count": 4
    }
   ],
   "source": [
    "# features\n",
    "boston.drop(\"cmedv\", axis=1).head()"
   ]
  },
  {
   "cell_type": "code",
   "execution_count": 5,
   "metadata": {},
   "outputs": [
    {
     "output_type": "execute_result",
     "data": {
      "text/plain": "0    24.0\n1    21.6\n2    34.7\n3    33.4\n4    36.2\nName: cmedv, dtype: float64"
     },
     "metadata": {},
     "execution_count": 5
    }
   ],
   "source": [
    "# response variable\n",
    "boston[\"cmedv\"].head()"
   ]
  },
  {
   "cell_type": "markdown",
   "metadata": {},
   "source": [
    "## Pima Indians Diabetes"
   ]
  },
  {
   "cell_type": "code",
   "execution_count": 6,
   "metadata": {},
   "outputs": [
    {
     "output_type": "execute_result",
     "data": {
      "text/plain": "(768, 9)"
     },
     "metadata": {},
     "execution_count": 6
    }
   ],
   "source": [
    "# access data\n",
    "pima = pd.read_csv(\"../data/pima.csv\")\n",
    "\n",
    "# initial dimensions\n",
    "pima.shape"
   ]
  },
  {
   "cell_type": "code",
   "execution_count": 7,
   "metadata": {},
   "outputs": [
    {
     "output_type": "execute_result",
     "data": {
      "text/plain": "   pregnant  glucose  pressure  triceps  insulin  mass  pedigree  age\n0         6      148        72       35        0  33.6     0.627   50\n1         1       85        66       29        0  26.6     0.351   31\n2         8      183        64        0        0  23.3     0.672   32\n3         1       89        66       23       94  28.1     0.167   21\n4         0      137        40       35      168  43.1     2.288   33",
      "text/html": "<div>\n<style scoped>\n    .dataframe tbody tr th:only-of-type {\n        vertical-align: middle;\n    }\n\n    .dataframe tbody tr th {\n        vertical-align: top;\n    }\n\n    .dataframe thead th {\n        text-align: right;\n    }\n</style>\n<table border=\"1\" class=\"dataframe\">\n  <thead>\n    <tr style=\"text-align: right;\">\n      <th></th>\n      <th>pregnant</th>\n      <th>glucose</th>\n      <th>pressure</th>\n      <th>triceps</th>\n      <th>insulin</th>\n      <th>mass</th>\n      <th>pedigree</th>\n      <th>age</th>\n    </tr>\n  </thead>\n  <tbody>\n    <tr>\n      <th>0</th>\n      <td>6</td>\n      <td>148</td>\n      <td>72</td>\n      <td>35</td>\n      <td>0</td>\n      <td>33.6</td>\n      <td>0.627</td>\n      <td>50</td>\n    </tr>\n    <tr>\n      <th>1</th>\n      <td>1</td>\n      <td>85</td>\n      <td>66</td>\n      <td>29</td>\n      <td>0</td>\n      <td>26.6</td>\n      <td>0.351</td>\n      <td>31</td>\n    </tr>\n    <tr>\n      <th>2</th>\n      <td>8</td>\n      <td>183</td>\n      <td>64</td>\n      <td>0</td>\n      <td>0</td>\n      <td>23.3</td>\n      <td>0.672</td>\n      <td>32</td>\n    </tr>\n    <tr>\n      <th>3</th>\n      <td>1</td>\n      <td>89</td>\n      <td>66</td>\n      <td>23</td>\n      <td>94</td>\n      <td>28.1</td>\n      <td>0.167</td>\n      <td>21</td>\n    </tr>\n    <tr>\n      <th>4</th>\n      <td>0</td>\n      <td>137</td>\n      <td>40</td>\n      <td>35</td>\n      <td>168</td>\n      <td>43.1</td>\n      <td>2.288</td>\n      <td>33</td>\n    </tr>\n  </tbody>\n</table>\n</div>"
     },
     "metadata": {},
     "execution_count": 7
    }
   ],
   "source": [
    "# features\n",
    "pima.drop(\"diabetes\", axis=1).head()"
   ]
  },
  {
   "cell_type": "code",
   "execution_count": 8,
   "metadata": {},
   "outputs": [
    {
     "output_type": "execute_result",
     "data": {
      "text/plain": "0    pos\n1    neg\n2    pos\n3    neg\n4    pos\nName: diabetes, dtype: object"
     },
     "metadata": {},
     "execution_count": 8
    }
   ],
   "source": [
    "# response variable\n",
    "pima[\"diabetes\"].head()"
   ]
  },
  {
   "cell_type": "markdown",
   "metadata": {},
   "source": [
    "## Iris flowers"
   ]
  },
  {
   "cell_type": "code",
   "execution_count": 9,
   "metadata": {},
   "outputs": [
    {
     "output_type": "execute_result",
     "data": {
      "text/plain": "(150, 5)"
     },
     "metadata": {},
     "execution_count": 9
    }
   ],
   "source": [
    "# access data\n",
    "iris = pd.read_csv(\"../data/iris.csv\")\n",
    "\n",
    "# initial dimensions\n",
    "iris.shape"
   ]
  },
  {
   "cell_type": "code",
   "execution_count": 10,
   "metadata": {},
   "outputs": [
    {
     "output_type": "execute_result",
     "data": {
      "text/plain": "   Sepal.Length  Sepal.Width  Petal.Length  Petal.Width\n0           5.1          3.5           1.4          0.2\n1           4.9          3.0           1.4          0.2\n2           4.7          3.2           1.3          0.2\n3           4.6          3.1           1.5          0.2\n4           5.0          3.6           1.4          0.2",
      "text/html": "<div>\n<style scoped>\n    .dataframe tbody tr th:only-of-type {\n        vertical-align: middle;\n    }\n\n    .dataframe tbody tr th {\n        vertical-align: top;\n    }\n\n    .dataframe thead th {\n        text-align: right;\n    }\n</style>\n<table border=\"1\" class=\"dataframe\">\n  <thead>\n    <tr style=\"text-align: right;\">\n      <th></th>\n      <th>Sepal.Length</th>\n      <th>Sepal.Width</th>\n      <th>Petal.Length</th>\n      <th>Petal.Width</th>\n    </tr>\n  </thead>\n  <tbody>\n    <tr>\n      <th>0</th>\n      <td>5.1</td>\n      <td>3.5</td>\n      <td>1.4</td>\n      <td>0.2</td>\n    </tr>\n    <tr>\n      <th>1</th>\n      <td>4.9</td>\n      <td>3.0</td>\n      <td>1.4</td>\n      <td>0.2</td>\n    </tr>\n    <tr>\n      <th>2</th>\n      <td>4.7</td>\n      <td>3.2</td>\n      <td>1.3</td>\n      <td>0.2</td>\n    </tr>\n    <tr>\n      <th>3</th>\n      <td>4.6</td>\n      <td>3.1</td>\n      <td>1.5</td>\n      <td>0.2</td>\n    </tr>\n    <tr>\n      <th>4</th>\n      <td>5.0</td>\n      <td>3.6</td>\n      <td>1.4</td>\n      <td>0.2</td>\n    </tr>\n  </tbody>\n</table>\n</div>"
     },
     "metadata": {},
     "execution_count": 10
    }
   ],
   "source": [
    "# features\n",
    "iris.drop(\"Species\", axis=1).head()"
   ]
  },
  {
   "cell_type": "code",
   "execution_count": 11,
   "metadata": {},
   "outputs": [
    {
     "output_type": "execute_result",
     "data": {
      "text/plain": "0    setosa\n1    setosa\n2    setosa\n3    setosa\n4    setosa\nName: Species, dtype: object"
     },
     "metadata": {},
     "execution_count": 11
    }
   ],
   "source": [
    "# response variable\n",
    "iris[\"Species\"].head()"
   ]
  },
  {
   "cell_type": "markdown",
   "metadata": {},
   "source": [
    "## Ames housing"
   ]
  },
  {
   "cell_type": "code",
   "execution_count": 12,
   "metadata": {},
   "outputs": [
    {
     "output_type": "execute_result",
     "data": {
      "text/plain": "(2930, 81)"
     },
     "metadata": {},
     "execution_count": 12
    }
   ],
   "source": [
    "# access data\n",
    "ames = pd.read_csv(\"../data/ames.csv\")\n",
    "\n",
    "# initial dimensions\n",
    "ames.shape"
   ]
  },
  {
   "cell_type": "code",
   "execution_count": 13,
   "metadata": {},
   "outputs": [
    {
     "output_type": "execute_result",
     "data": {
      "text/plain": "                           MS_SubClass                 MS_Zoning  \\\n0  One_Story_1946_and_Newer_All_Styles   Residential_Low_Density   \n1  One_Story_1946_and_Newer_All_Styles  Residential_High_Density   \n2  One_Story_1946_and_Newer_All_Styles   Residential_Low_Density   \n3  One_Story_1946_and_Newer_All_Styles   Residential_Low_Density   \n4             Two_Story_1946_and_Newer   Residential_Low_Density   \n\n   Lot_Frontage  Lot_Area Street            Alley           Lot_Shape  \\\n0           141     31770   Pave  No_Alley_Access  Slightly_Irregular   \n1            80     11622   Pave  No_Alley_Access             Regular   \n2            81     14267   Pave  No_Alley_Access  Slightly_Irregular   \n3            93     11160   Pave  No_Alley_Access             Regular   \n4            74     13830   Pave  No_Alley_Access  Slightly_Irregular   \n\n  Land_Contour Utilities Lot_Config  ...  Pool_QC            Fence  \\\n0          Lvl    AllPub     Corner  ...  No_Pool         No_Fence   \n1          Lvl    AllPub     Inside  ...  No_Pool  Minimum_Privacy   \n2          Lvl    AllPub     Corner  ...  No_Pool         No_Fence   \n3          Lvl    AllPub     Corner  ...  No_Pool         No_Fence   \n4          Lvl    AllPub     Inside  ...  No_Pool  Minimum_Privacy   \n\n  Misc_Feature Misc_Val Mo_Sold Year_Sold Sale_Type Sale_Condition  Longitude  \\\n0         None        0       5      2010       WD          Normal -93.619754   \n1         None        0       6      2010       WD          Normal -93.619756   \n2         Gar2    12500       6      2010       WD          Normal -93.619387   \n3         None        0       4      2010       WD          Normal -93.617320   \n4         None        0       3      2010       WD          Normal -93.638933   \n\n    Latitude  \n0  42.054035  \n1  42.053014  \n2  42.052659  \n3  42.051245  \n4  42.060899  \n\n[5 rows x 80 columns]",
      "text/html": "<div>\n<style scoped>\n    .dataframe tbody tr th:only-of-type {\n        vertical-align: middle;\n    }\n\n    .dataframe tbody tr th {\n        vertical-align: top;\n    }\n\n    .dataframe thead th {\n        text-align: right;\n    }\n</style>\n<table border=\"1\" class=\"dataframe\">\n  <thead>\n    <tr style=\"text-align: right;\">\n      <th></th>\n      <th>MS_SubClass</th>\n      <th>MS_Zoning</th>\n      <th>Lot_Frontage</th>\n      <th>Lot_Area</th>\n      <th>Street</th>\n      <th>Alley</th>\n      <th>Lot_Shape</th>\n      <th>Land_Contour</th>\n      <th>Utilities</th>\n      <th>Lot_Config</th>\n      <th>...</th>\n      <th>Pool_QC</th>\n      <th>Fence</th>\n      <th>Misc_Feature</th>\n      <th>Misc_Val</th>\n      <th>Mo_Sold</th>\n      <th>Year_Sold</th>\n      <th>Sale_Type</th>\n      <th>Sale_Condition</th>\n      <th>Longitude</th>\n      <th>Latitude</th>\n    </tr>\n  </thead>\n  <tbody>\n    <tr>\n      <th>0</th>\n      <td>One_Story_1946_and_Newer_All_Styles</td>\n      <td>Residential_Low_Density</td>\n      <td>141</td>\n      <td>31770</td>\n      <td>Pave</td>\n      <td>No_Alley_Access</td>\n      <td>Slightly_Irregular</td>\n      <td>Lvl</td>\n      <td>AllPub</td>\n      <td>Corner</td>\n      <td>...</td>\n      <td>No_Pool</td>\n      <td>No_Fence</td>\n      <td>None</td>\n      <td>0</td>\n      <td>5</td>\n      <td>2010</td>\n      <td>WD</td>\n      <td>Normal</td>\n      <td>-93.619754</td>\n      <td>42.054035</td>\n    </tr>\n    <tr>\n      <th>1</th>\n      <td>One_Story_1946_and_Newer_All_Styles</td>\n      <td>Residential_High_Density</td>\n      <td>80</td>\n      <td>11622</td>\n      <td>Pave</td>\n      <td>No_Alley_Access</td>\n      <td>Regular</td>\n      <td>Lvl</td>\n      <td>AllPub</td>\n      <td>Inside</td>\n      <td>...</td>\n      <td>No_Pool</td>\n      <td>Minimum_Privacy</td>\n      <td>None</td>\n      <td>0</td>\n      <td>6</td>\n      <td>2010</td>\n      <td>WD</td>\n      <td>Normal</td>\n      <td>-93.619756</td>\n      <td>42.053014</td>\n    </tr>\n    <tr>\n      <th>2</th>\n      <td>One_Story_1946_and_Newer_All_Styles</td>\n      <td>Residential_Low_Density</td>\n      <td>81</td>\n      <td>14267</td>\n      <td>Pave</td>\n      <td>No_Alley_Access</td>\n      <td>Slightly_Irregular</td>\n      <td>Lvl</td>\n      <td>AllPub</td>\n      <td>Corner</td>\n      <td>...</td>\n      <td>No_Pool</td>\n      <td>No_Fence</td>\n      <td>Gar2</td>\n      <td>12500</td>\n      <td>6</td>\n      <td>2010</td>\n      <td>WD</td>\n      <td>Normal</td>\n      <td>-93.619387</td>\n      <td>42.052659</td>\n    </tr>\n    <tr>\n      <th>3</th>\n      <td>One_Story_1946_and_Newer_All_Styles</td>\n      <td>Residential_Low_Density</td>\n      <td>93</td>\n      <td>11160</td>\n      <td>Pave</td>\n      <td>No_Alley_Access</td>\n      <td>Regular</td>\n      <td>Lvl</td>\n      <td>AllPub</td>\n      <td>Corner</td>\n      <td>...</td>\n      <td>No_Pool</td>\n      <td>No_Fence</td>\n      <td>None</td>\n      <td>0</td>\n      <td>4</td>\n      <td>2010</td>\n      <td>WD</td>\n      <td>Normal</td>\n      <td>-93.617320</td>\n      <td>42.051245</td>\n    </tr>\n    <tr>\n      <th>4</th>\n      <td>Two_Story_1946_and_Newer</td>\n      <td>Residential_Low_Density</td>\n      <td>74</td>\n      <td>13830</td>\n      <td>Pave</td>\n      <td>No_Alley_Access</td>\n      <td>Slightly_Irregular</td>\n      <td>Lvl</td>\n      <td>AllPub</td>\n      <td>Inside</td>\n      <td>...</td>\n      <td>No_Pool</td>\n      <td>Minimum_Privacy</td>\n      <td>None</td>\n      <td>0</td>\n      <td>3</td>\n      <td>2010</td>\n      <td>WD</td>\n      <td>Normal</td>\n      <td>-93.638933</td>\n      <td>42.060899</td>\n    </tr>\n  </tbody>\n</table>\n<p>5 rows × 80 columns</p>\n</div>"
     },
     "metadata": {},
     "execution_count": 13
    }
   ],
   "source": [
    "# features\n",
    "ames.drop(\"Sale_Price\", axis=1).head()"
   ]
  },
  {
   "cell_type": "code",
   "execution_count": 14,
   "metadata": {},
   "outputs": [
    {
     "output_type": "execute_result",
     "data": {
      "text/plain": "0    215000\n1    105000\n2    172000\n3    244000\n4    189900\nName: Sale_Price, dtype: int64"
     },
     "metadata": {},
     "execution_count": 14
    }
   ],
   "source": [
    "# response variable\n",
    "ames[\"Sale_Price\"].head()"
   ]
  },
  {
   "cell_type": "markdown",
   "metadata": {},
   "source": [
    "## Attrition"
   ]
  },
  {
   "cell_type": "code",
   "execution_count": 15,
   "metadata": {},
   "outputs": [
    {
     "output_type": "execute_result",
     "data": {
      "text/plain": "(1470, 31)"
     },
     "metadata": {},
     "execution_count": 15
    }
   ],
   "source": [
    "# access data\n",
    "attrition = pd.read_csv(\"../data/attrition.csv\")\n",
    "\n",
    "# initial dimensions\n",
    "attrition.shape"
   ]
  },
  {
   "cell_type": "code",
   "execution_count": 16,
   "metadata": {},
   "outputs": [
    {
     "output_type": "execute_result",
     "data": {
      "text/plain": "   Age     BusinessTravel  DailyRate            Department  DistanceFromHome  \\\n0   41      Travel_Rarely       1102                 Sales                 1   \n1   49  Travel_Frequently        279  Research_Development                 8   \n2   37      Travel_Rarely       1373  Research_Development                 2   \n3   33  Travel_Frequently       1392  Research_Development                 3   \n4   27      Travel_Rarely        591  Research_Development                 2   \n\n       Education EducationField EnvironmentSatisfaction  Gender  HourlyRate  \\\n0        College  Life_Sciences                  Medium  Female          94   \n1  Below_College  Life_Sciences                    High    Male          61   \n2        College          Other               Very_High    Male          92   \n3         Master  Life_Sciences               Very_High  Female          56   \n4  Below_College        Medical                     Low    Male          40   \n\n   ... PerformanceRating  RelationshipSatisfaction StockOptionLevel  \\\n0  ...         Excellent                       Low                0   \n1  ...       Outstanding                 Very_High                1   \n2  ...         Excellent                    Medium                0   \n3  ...         Excellent                      High                0   \n4  ...         Excellent                 Very_High                1   \n\n  TotalWorkingYears TrainingTimesLastYear  WorkLifeBalance  YearsAtCompany  \\\n0                 8                     0              Bad               6   \n1                10                     3           Better              10   \n2                 7                     3           Better               0   \n3                 8                     3           Better               8   \n4                 6                     3           Better               2   \n\n   YearsInCurrentRole YearsSinceLastPromotion  YearsWithCurrManager  \n0                   4                       0                     5  \n1                   7                       1                     7  \n2                   0                       0                     0  \n3                   7                       3                     0  \n4                   2                       2                     2  \n\n[5 rows x 30 columns]",
      "text/html": "<div>\n<style scoped>\n    .dataframe tbody tr th:only-of-type {\n        vertical-align: middle;\n    }\n\n    .dataframe tbody tr th {\n        vertical-align: top;\n    }\n\n    .dataframe thead th {\n        text-align: right;\n    }\n</style>\n<table border=\"1\" class=\"dataframe\">\n  <thead>\n    <tr style=\"text-align: right;\">\n      <th></th>\n      <th>Age</th>\n      <th>BusinessTravel</th>\n      <th>DailyRate</th>\n      <th>Department</th>\n      <th>DistanceFromHome</th>\n      <th>Education</th>\n      <th>EducationField</th>\n      <th>EnvironmentSatisfaction</th>\n      <th>Gender</th>\n      <th>HourlyRate</th>\n      <th>...</th>\n      <th>PerformanceRating</th>\n      <th>RelationshipSatisfaction</th>\n      <th>StockOptionLevel</th>\n      <th>TotalWorkingYears</th>\n      <th>TrainingTimesLastYear</th>\n      <th>WorkLifeBalance</th>\n      <th>YearsAtCompany</th>\n      <th>YearsInCurrentRole</th>\n      <th>YearsSinceLastPromotion</th>\n      <th>YearsWithCurrManager</th>\n    </tr>\n  </thead>\n  <tbody>\n    <tr>\n      <th>0</th>\n      <td>41</td>\n      <td>Travel_Rarely</td>\n      <td>1102</td>\n      <td>Sales</td>\n      <td>1</td>\n      <td>College</td>\n      <td>Life_Sciences</td>\n      <td>Medium</td>\n      <td>Female</td>\n      <td>94</td>\n      <td>...</td>\n      <td>Excellent</td>\n      <td>Low</td>\n      <td>0</td>\n      <td>8</td>\n      <td>0</td>\n      <td>Bad</td>\n      <td>6</td>\n      <td>4</td>\n      <td>0</td>\n      <td>5</td>\n    </tr>\n    <tr>\n      <th>1</th>\n      <td>49</td>\n      <td>Travel_Frequently</td>\n      <td>279</td>\n      <td>Research_Development</td>\n      <td>8</td>\n      <td>Below_College</td>\n      <td>Life_Sciences</td>\n      <td>High</td>\n      <td>Male</td>\n      <td>61</td>\n      <td>...</td>\n      <td>Outstanding</td>\n      <td>Very_High</td>\n      <td>1</td>\n      <td>10</td>\n      <td>3</td>\n      <td>Better</td>\n      <td>10</td>\n      <td>7</td>\n      <td>1</td>\n      <td>7</td>\n    </tr>\n    <tr>\n      <th>2</th>\n      <td>37</td>\n      <td>Travel_Rarely</td>\n      <td>1373</td>\n      <td>Research_Development</td>\n      <td>2</td>\n      <td>College</td>\n      <td>Other</td>\n      <td>Very_High</td>\n      <td>Male</td>\n      <td>92</td>\n      <td>...</td>\n      <td>Excellent</td>\n      <td>Medium</td>\n      <td>0</td>\n      <td>7</td>\n      <td>3</td>\n      <td>Better</td>\n      <td>0</td>\n      <td>0</td>\n      <td>0</td>\n      <td>0</td>\n    </tr>\n    <tr>\n      <th>3</th>\n      <td>33</td>\n      <td>Travel_Frequently</td>\n      <td>1392</td>\n      <td>Research_Development</td>\n      <td>3</td>\n      <td>Master</td>\n      <td>Life_Sciences</td>\n      <td>Very_High</td>\n      <td>Female</td>\n      <td>56</td>\n      <td>...</td>\n      <td>Excellent</td>\n      <td>High</td>\n      <td>0</td>\n      <td>8</td>\n      <td>3</td>\n      <td>Better</td>\n      <td>8</td>\n      <td>7</td>\n      <td>3</td>\n      <td>0</td>\n    </tr>\n    <tr>\n      <th>4</th>\n      <td>27</td>\n      <td>Travel_Rarely</td>\n      <td>591</td>\n      <td>Research_Development</td>\n      <td>2</td>\n      <td>Below_College</td>\n      <td>Medical</td>\n      <td>Low</td>\n      <td>Male</td>\n      <td>40</td>\n      <td>...</td>\n      <td>Excellent</td>\n      <td>Very_High</td>\n      <td>1</td>\n      <td>6</td>\n      <td>3</td>\n      <td>Better</td>\n      <td>2</td>\n      <td>2</td>\n      <td>2</td>\n      <td>2</td>\n    </tr>\n  </tbody>\n</table>\n<p>5 rows × 30 columns</p>\n</div>"
     },
     "metadata": {},
     "execution_count": 16
    }
   ],
   "source": [
    "# features\n",
    "attrition.drop(\"Attrition\", axis=1).head()"
   ]
  },
  {
   "cell_type": "code",
   "execution_count": 17,
   "metadata": {},
   "outputs": [
    {
     "output_type": "execute_result",
     "data": {
      "text/plain": "0    Yes\n1     No\n2    Yes\n3     No\n4     No\nName: Attrition, dtype: object"
     },
     "metadata": {},
     "execution_count": 17
    }
   ],
   "source": [
    "# response variable\n",
    "attrition[\"Attrition\"].head()"
   ]
  },
  {
   "cell_type": "markdown",
   "metadata": {},
   "source": [
    "## Exercises\n",
    "\n",
    "1. Identify four real-life applications of supervised and unsupervised problems.\n",
    "   - Explain what makes these problems supervised versus unsupervised.\n",
    "   - For each problem identify the target variable (if applicable) and potential\n",
    "     features.\n",
    "\n",
    "2. Identify and contrast a regression problem with a classification problem.\n",
    "   - What is the target variable in each problem and why would being able to\n",
    "     accurately predict this target be beneficial to society?\n",
    "   - What are potential features and where could you collect this information?\n",
    "   - What is determining if the problem is a regression or a classification\n",
    "     problem?\n",
    "\n",
    "3. Identify three open source data sets suitable for machine learning (e.g.,\n",
    "   https://bit.ly/35wKu5c).\n",
    "   - Explain the type of machine learning models that could be constructed from\n",
    "     the data (e.g., supervised versus unsupervised and regression versus\n",
    "     classification).\n",
    "   - What are the dimensions of the data?\n",
    "   - Is there a code book that explains who collected the data, why it was\n",
    "     originally collected, and what each variable represents?\n",
    "   - If the data set is suitable for supervised learning, which variable(s) could\n",
    "     be considered as a useful target? Which variable(s) could be considered as\n",
    "     features?\n",
    "\n",
    "4. Identify examples of misuse of machine learning in society. What was the\n",
    "   ethical concern?"
   ]
  },
  {
   "cell_type": "code",
   "execution_count": null,
   "metadata": {},
   "outputs": [],
   "source": []
  }
 ],
 "metadata": {
  "language_info": {
   "codemirror_mode": {
    "name": "ipython",
    "version": 3
   },
   "file_extension": ".py",
   "mimetype": "text/x-python",
   "name": "python",
   "nbconvert_exporter": "python",
   "pygments_lexer": "ipython3",
   "version": "3.8.5-final"
  },
  "orig_nbformat": 2,
  "kernelspec": {
   "name": "python38564bitrreticulateconda8d5826057e104d838757575f86d4c696",
   "display_name": "Python 3.8.5 64-bit ('r-reticulate': conda)"
  }
 },
 "nbformat": 4,
 "nbformat_minor": 2
}